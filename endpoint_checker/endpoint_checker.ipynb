{
 "cells": [
  {
   "cell_type": "markdown",
   "id": "8f33af68-507b-4831-9186-46067200bb87",
   "metadata": {},
   "source": [
    "### Check an endpoint\n",
    "This notebook aims to run the pipeline on a given endpoint to check to see if it will be successful. This includes collecting, pipeline and datset stages. It aims to also highlight useful information as a summary as to whether the endpoint would be successful on our platform. it will download all relevant data to do this and hence might be disk intensive. You'll need to provide the following information:\n",
    "- collection - this is the collection that the dataset belongs to, this can be extracted from the specification but for this notebook we ask to provide it incase you want to test the pipeline on something which isn't being included in the main site right now\n",
    "- dataset - this is the dataset that the endpoint is meant to provide data for, technically this can be multiple datasets but this this use case it should just be one. It is also the name of the pipeline that is ran on the individual resources that are downloaded from the endpoint. the terms dataset/pipline are often the same\n",
    "- organisation - the organisation identifier to be used for the endpoint\n",
    "- endpoint url - the actual url needed for the endpoint\n",
    "- plugin - often we use plugins to download the data this is only needed for specific endpoints\n",
    "\n",
    "If you are seeing errors regarding digital-land, then try \n",
    "\n",
    "`pip install -e git+https://github.com/digital-land/pipeline.git#egg=digital-land`\n",
    "\n",
    "And restart the notebook."
   ]
  },
  {
   "cell_type": "code",
   "execution_count": 2,
   "id": "af9959de-69a3-4199-86ad-ecf5fa3150c2",
   "metadata": {
    "tags": []
   },
   "outputs": [
    {
     "name": "stderr",
     "output_type": "stream",
     "text": [
      "/Users/jimmytidey/Projects/jupyter-analysis/venv/lib/python3.10/site-packages/pyproj/transformer.py:207: UserWarning: Best transformation is not available due to missing Grid(short_name=uk_os_OSTN15_NTv2_OSGBtoETRS.tif, full_name=, package_name=, url=https://cdn.proj.org/uk_os_OSTN15_NTv2_OSGBtoETRS.tif, direct_download=True, open_license=True, available=False)\n",
      "  super().__init__(\n",
      "WARNING:root:not using the best available OSGB correction tables\n"
     ]
    }
   ],
   "source": [
    "import os, time\n",
    "import pandas as pd\n",
    "from functions import run_endpoint_workflow\n",
    "from sqlite_query_functions import DatasetSqlite\n",
    "from convert_functions import convert_resource\n",
    "from digital_land.collection import Collection"
   ]
  },
  {
   "cell_type": "code",
   "execution_count": 3,
   "id": "cf099714",
   "metadata": {},
   "outputs": [
    {
     "name": "stdout",
     "output_type": "stream",
     "text": [
      "running endpoint workflow\n",
      "HTTP Error 404: Not Found\n",
      "HTTP Error 404: Not Found\n",
      "data/endpoint_checker_16967525553823/collection\n",
      "[]\n",
      "*No resources collected view collection logs for more info*\n",
      "http_status 200\n"
     ]
    },
    {
     "ename": "OperationalError",
     "evalue": "no such table: issue",
     "output_type": "error",
     "traceback": [
      "\u001b[0;31m---------------------------------------------------------------------------\u001b[0m",
      "\u001b[0;31mOperationalError\u001b[0m                          Traceback (most recent call last)",
      "\u001b[1;32m/Users/jimmytidey/Projects/jupyter-analysis/endpoint_checker/endpoint_checker.ipynb Cell 3\u001b[0m line \u001b[0;36m3\n\u001b[1;32m     <a href='vscode-notebook-cell:/Users/jimmytidey/Projects/jupyter-analysis/endpoint_checker/endpoint_checker.ipynb#X26sZmlsZQ%3D%3D?line=26'>27</a>\u001b[0m \u001b[39mprint\u001b[39m(\u001b[39mf\u001b[39m\u001b[39m'\u001b[39m\u001b[39mhttp_status \u001b[39m\u001b[39m{\u001b[39;00mhttp_status\u001b[39m}\u001b[39;00m\u001b[39m'\u001b[39m)\n\u001b[1;32m     <a href='vscode-notebook-cell:/Users/jimmytidey/Projects/jupyter-analysis/endpoint_checker/endpoint_checker.ipynb#X26sZmlsZQ%3D%3D?line=28'>29</a>\u001b[0m dataset_db \u001b[39m=\u001b[39m DatasetSqlite(os\u001b[39m.\u001b[39mpath\u001b[39m.\u001b[39mjoin(data_dir,\u001b[39m'\u001b[39m\u001b[39mdataset\u001b[39m\u001b[39m'\u001b[39m,\u001b[39mf\u001b[39m\u001b[39m'\u001b[39m\u001b[39m{\u001b[39;00mdataset\u001b[39m}\u001b[39;00m\u001b[39m.sqlite3\u001b[39m\u001b[39m'\u001b[39m))\n\u001b[0;32m---> <a href='vscode-notebook-cell:/Users/jimmytidey/Projects/jupyter-analysis/endpoint_checker/endpoint_checker.ipynb#X26sZmlsZQ%3D%3D?line=29'>30</a>\u001b[0m results \u001b[39m=\u001b[39m dataset_db\u001b[39m.\u001b[39;49mget_issues()\n\u001b[1;32m     <a href='vscode-notebook-cell:/Users/jimmytidey/Projects/jupyter-analysis/endpoint_checker/endpoint_checker.ipynb#X26sZmlsZQ%3D%3D?line=30'>31</a>\u001b[0m issues \u001b[39m=\u001b[39m results\u001b[39m.\u001b[39mloc[(results\u001b[39m.\u001b[39missue_type \u001b[39m!=\u001b[39m \u001b[39m'\u001b[39m\u001b[39mdefault-value\u001b[39m\u001b[39m'\u001b[39m)]\n\u001b[1;32m     <a href='vscode-notebook-cell:/Users/jimmytidey/Projects/jupyter-analysis/endpoint_checker/endpoint_checker.ipynb#X26sZmlsZQ%3D%3D?line=31'>32</a>\u001b[0m display(issues)\n",
      "File \u001b[0;32m~/Projects/jupyter-analysis/endpoint_checker/sqlite_query_functions.py:44\u001b[0m, in \u001b[0;36mDatasetSqlite.get_issues\u001b[0;34m(self)\u001b[0m\n\u001b[1;32m     40\u001b[0m \u001b[39mdef\u001b[39;00m \u001b[39mget_issues\u001b[39m(\u001b[39mself\u001b[39m):\n\u001b[1;32m     41\u001b[0m     sql \u001b[39m=\u001b[39m \u001b[39m\"\"\"\u001b[39m\n\u001b[1;32m     42\u001b[0m \u001b[39m    select * from issue;\u001b[39m\n\u001b[1;32m     43\u001b[0m \u001b[39m    \u001b[39m\u001b[39m\"\"\"\u001b[39m\n\u001b[0;32m---> 44\u001b[0m     results \u001b[39m=\u001b[39m \u001b[39mself\u001b[39;49m\u001b[39m.\u001b[39;49mrun_query(sql)\n\u001b[1;32m     45\u001b[0m     \u001b[39mreturn\u001b[39;00m results\n",
      "File \u001b[0;32m~/Projects/jupyter-analysis/endpoint_checker/sqlite_query_functions.py:20\u001b[0m, in \u001b[0;36mDatasetSqlite.run_query\u001b[0;34m(self, sql_query)\u001b[0m\n\u001b[1;32m      9\u001b[0m \u001b[39m\u001b[39m\u001b[39m\"\"\"\u001b[39;00m\n\u001b[1;32m     10\u001b[0m \u001b[39mReceives a sql query and returns the results either in a pandas\u001b[39;00m\n\u001b[1;32m     11\u001b[0m \u001b[39mdataframe or just the first column as a set (this is useful to\u001b[39;00m\n\u001b[0;32m   (...)\u001b[0m\n\u001b[1;32m     17\u001b[0m \u001b[39minfo see: https://stackoverflow.com/a/14520670\u001b[39;00m\n\u001b[1;32m     18\u001b[0m \u001b[39m\"\"\"\u001b[39;00m\n\u001b[1;32m     19\u001b[0m \u001b[39mwith\u001b[39;00m sqlite3\u001b[39m.\u001b[39mconnect(\u001b[39mself\u001b[39m\u001b[39m.\u001b[39msqlite_path) \u001b[39mas\u001b[39;00m con:\n\u001b[0;32m---> 20\u001b[0m     cursor \u001b[39m=\u001b[39m con\u001b[39m.\u001b[39;49mexecute(sql_query)\n\u001b[1;32m     21\u001b[0m     cols \u001b[39m=\u001b[39m [column[\u001b[39m0\u001b[39m] \u001b[39mfor\u001b[39;00m column \u001b[39min\u001b[39;00m cursor\u001b[39m.\u001b[39mdescription]\n\u001b[1;32m     22\u001b[0m     results \u001b[39m=\u001b[39m pd\u001b[39m.\u001b[39mDataFrame\u001b[39m.\u001b[39mfrom_records(data\u001b[39m=\u001b[39mcursor\u001b[39m.\u001b[39mfetchall(), columns\u001b[39m=\u001b[39mcols)\n",
      "\u001b[0;31mOperationalError\u001b[0m: no such table: issue"
     ]
    }
   ],
   "source": [
    "collection_name = 'listed-building-collection'\n",
    "dataset = 'listed-building-outline'\n",
    "organisation = 'local-authority-eng:CAM'\n",
    "endpoint_url = 'https://raw.githubusercontent.com/jimmytidey/jupyter-analysis/feature-endpoint-checker-api/endpoint_checker/examples/conservation_area_invalid_csv.csv'\n",
    "plugin = None\n",
    "additional_column_mappings=None\n",
    "additional_concats=None\n",
    "data_dir = 'data/endpoint_checker_' + str(int(time.time()*10000)) \n",
    "\n",
    "\n",
    "run_endpoint_workflow(\n",
    "    collection_name,\n",
    "    dataset,\n",
    "    organisation,\n",
    "    endpoint_url,\n",
    "    plugin,\n",
    "    data_dir,\n",
    "    additional_col_mappings=additional_column_mappings,\n",
    "    additional_concats=additional_concats\n",
    ")\n",
    "\n",
    "collection = Collection(os.path.join(data_dir,'collection'))\n",
    "collection.load(directory=os.path.join(data_dir,'collection'))\n",
    "logs = collection.log.entries\n",
    "logs = pd.DataFrame.from_records(logs)\n",
    "http_status = logs['status'].values[0]\n",
    "print(f'http_status {http_status}')\n",
    "\n",
    "dataset_db = DatasetSqlite(os.path.join(data_dir,'dataset',f'{dataset}.sqlite3'))\n",
    "results = dataset_db.get_issues()\n",
    "issues = results.loc[(results.issue_type != 'default-value')]\n",
    "display(issues)\n"
   ]
  },
  {
   "cell_type": "code",
   "execution_count": 5,
   "id": "06f3f438-0b45-485e-b1f2-6e9b4bb01729",
   "metadata": {
    "tags": []
   },
   "outputs": [],
   "source": [
    "#southwark convservation area endpoint\n",
    "# collection_name = 'conservation-area-collection'\n",
    "# dataset = 'conservation-area'\n",
    "# organisation = 'local-authority-eng:SWK'\n",
    "# endpoint_url = 'https://www.southwark.gov.uk/assets/attach/194104/Conservation-Areas.gpkg'\n",
    "# plugin = None\n",
    "# additional_column_mappings=None\n",
    "# additional_concats=None\n",
    "\n",
    "# doncaster tpos\n",
    "# collection_name = 'tree-preservation-order-collection'\n",
    "# dataset = 'tree-preservation-zone'\n",
    "# organisation = 'local-authority-eng:DNC'\n",
    "# endpoint_url='https://maps.doncaster.gov.uk/server/rest/services/Planning/TPO_Map/MapServer/1'\n",
    "# plugin = 'arcgis'\n",
    "# additional_column_mappings=None\n",
    "# additional_concats=None\n",
    "\n",
    "# \n",
    "collection_name = 'listed-building-collection'\n",
    "dataset = 'listed-building-outline'\n",
    "organisation = 'local-authority-eng:CAM'\n",
    "endpoint_url = 'https://raw.githubusercontent.com/jimmytidey/jupyter-analysis/feature-endpoint-checker-api/endpoint_checker/examples/conservation_area_no_errors.csv'\n",
    "plugin = None\n",
    "\n",
    "additional_column_mappings=None\n",
    "additional_concats=None\n",
    "\n",
    "# generic data_dir setting\n",
    "data_dir = '../data/endpoint_checker'\n",
    "\n",
    "# example playing with additional confiigs\n",
    "# additional_concats = [{\n",
    "#     'dataset':'tree-preservation-zone',\n",
    "#     'endpoint':'de1eb90a8b037292ef8ae14bfabd1184847ef99b7c6296bb6e75379e6c1f9572',\n",
    "#     'resource':'e6b0ccaf9b50a7f57a543484fd291dbe43f52a6231b681c3a7cc5e35a6aba254',\n",
    "#     'field':'reference',\n",
    "#     'fields':'REFVAL;LABEL',\n",
    "#     'separator':'/'\n",
    "# }]\n"
   ]
  },
  {
   "cell_type": "code",
   "execution_count": 6,
   "id": "9e38144f-1c71-4283-840e-bddffd3ea776",
   "metadata": {
    "tags": []
   },
   "outputs": [
    {
     "name": "stdout",
     "output_type": "stream",
     "text": [
      "running endpoint workflow\n",
      "HTTP Error 404: Not Found\n",
      "HTTP Error 404: Not Found\n",
      "../data/endpoint_checker/collection\n",
      "[{'resource': '14ef21dcac2e2c55bc22f8ced1f2da457dff6e771d09df7e68ad05f2148f82e7', 'bytes': '397', 'endpoints': '88ff80ad7fc684d599de58126c8742b3a4042fff09851db28f8c051439309dc6', 'organisations': 'local-authority-eng:CAM', 'datasets': 'listed-building-outline', 'start-date': '2023-10-08', 'end-date': ''}]\n"
     ]
    },
    {
     "name": "stderr",
     "output_type": "stream",
     "text": [
      "WARNING:root:entry-number: unexpected fieldname in lookups.csv\n"
     ]
    },
    {
     "name": "stdout",
     "output_type": "stream",
     "text": [
      "None\n"
     ]
    }
   ],
   "source": [
    "val = run_endpoint_workflow(\n",
    "    collection_name,\n",
    "    dataset,\n",
    "    organisation,\n",
    "    endpoint_url,\n",
    "    plugin,\n",
    "    data_dir,\n",
    "    additional_col_mappings=additional_column_mappings,\n",
    "    additional_concats=additional_concats\n",
    ")\n",
    "\n",
    "print(val)"
   ]
  },
  {
   "cell_type": "code",
   "execution_count": 33,
   "id": "305dab0a",
   "metadata": {},
   "outputs": [
    {
     "ename": "OperationalError",
     "evalue": "no such table: issue",
     "output_type": "error",
     "traceback": [
      "\u001b[0;31m---------------------------------------------------------------------------\u001b[0m",
      "\u001b[0;31mOperationalError\u001b[0m                          Traceback (most recent call last)",
      "\u001b[1;32m/Users/jimmytidey/Projects/jupyter-analysis/endpoint_checker/endpoint_checker.ipynb Cell 7\u001b[0m line \u001b[0;36m2\n\u001b[1;32m      <a href='vscode-notebook-cell:/Users/jimmytidey/Projects/jupyter-analysis/endpoint_checker/endpoint_checker.ipynb#X25sZmlsZQ%3D%3D?line=0'>1</a>\u001b[0m dataset_db \u001b[39m=\u001b[39m DatasetSqlite(os\u001b[39m.\u001b[39mpath\u001b[39m.\u001b[39mjoin(data_dir,\u001b[39m'\u001b[39m\u001b[39mdataset\u001b[39m\u001b[39m'\u001b[39m,\u001b[39mf\u001b[39m\u001b[39m'\u001b[39m\u001b[39m{\u001b[39;00mdataset\u001b[39m}\u001b[39;00m\u001b[39m.sqlite3\u001b[39m\u001b[39m'\u001b[39m))\n\u001b[0;32m----> <a href='vscode-notebook-cell:/Users/jimmytidey/Projects/jupyter-analysis/endpoint_checker/endpoint_checker.ipynb#X25sZmlsZQ%3D%3D?line=1'>2</a>\u001b[0m results \u001b[39m=\u001b[39m dataset_db\u001b[39m.\u001b[39;49mget_issues()\n\u001b[1;32m      <a href='vscode-notebook-cell:/Users/jimmytidey/Projects/jupyter-analysis/endpoint_checker/endpoint_checker.ipynb#X25sZmlsZQ%3D%3D?line=2'>3</a>\u001b[0m issues \u001b[39m=\u001b[39m results\u001b[39m.\u001b[39mloc[(results\u001b[39m.\u001b[39missue_type \u001b[39m!=\u001b[39m \u001b[39m'\u001b[39m\u001b[39mdefault-value\u001b[39m\u001b[39m'\u001b[39m)]\n\u001b[1;32m      <a href='vscode-notebook-cell:/Users/jimmytidey/Projects/jupyter-analysis/endpoint_checker/endpoint_checker.ipynb#X25sZmlsZQ%3D%3D?line=3'>4</a>\u001b[0m display(issues)\n",
      "File \u001b[0;32m~/Projects/jupyter-analysis/endpoint_checker/sqlite_query_functions.py:44\u001b[0m, in \u001b[0;36mDatasetSqlite.get_issues\u001b[0;34m(self)\u001b[0m\n\u001b[1;32m     40\u001b[0m \u001b[39mdef\u001b[39;00m \u001b[39mget_issues\u001b[39m(\u001b[39mself\u001b[39m):\n\u001b[1;32m     41\u001b[0m     sql \u001b[39m=\u001b[39m \u001b[39m\"\"\"\u001b[39m\n\u001b[1;32m     42\u001b[0m \u001b[39m    select * from issue;\u001b[39m\n\u001b[1;32m     43\u001b[0m \u001b[39m    \u001b[39m\u001b[39m\"\"\"\u001b[39m\n\u001b[0;32m---> 44\u001b[0m     results \u001b[39m=\u001b[39m \u001b[39mself\u001b[39;49m\u001b[39m.\u001b[39;49mrun_query(sql)\n\u001b[1;32m     45\u001b[0m     \u001b[39mreturn\u001b[39;00m results\n",
      "File \u001b[0;32m~/Projects/jupyter-analysis/endpoint_checker/sqlite_query_functions.py:20\u001b[0m, in \u001b[0;36mDatasetSqlite.run_query\u001b[0;34m(self, sql_query)\u001b[0m\n\u001b[1;32m      9\u001b[0m \u001b[39m\u001b[39m\u001b[39m\"\"\"\u001b[39;00m\n\u001b[1;32m     10\u001b[0m \u001b[39mReceives a sql query and returns the results either in a pandas\u001b[39;00m\n\u001b[1;32m     11\u001b[0m \u001b[39mdataframe or just the first column as a set (this is useful to\u001b[39;00m\n\u001b[0;32m   (...)\u001b[0m\n\u001b[1;32m     17\u001b[0m \u001b[39minfo see: https://stackoverflow.com/a/14520670\u001b[39;00m\n\u001b[1;32m     18\u001b[0m \u001b[39m\"\"\"\u001b[39;00m\n\u001b[1;32m     19\u001b[0m \u001b[39mwith\u001b[39;00m sqlite3\u001b[39m.\u001b[39mconnect(\u001b[39mself\u001b[39m\u001b[39m.\u001b[39msqlite_path) \u001b[39mas\u001b[39;00m con:\n\u001b[0;32m---> 20\u001b[0m     cursor \u001b[39m=\u001b[39m con\u001b[39m.\u001b[39;49mexecute(sql_query)\n\u001b[1;32m     21\u001b[0m     cols \u001b[39m=\u001b[39m [column[\u001b[39m0\u001b[39m] \u001b[39mfor\u001b[39;00m column \u001b[39min\u001b[39;00m cursor\u001b[39m.\u001b[39mdescription]\n\u001b[1;32m     22\u001b[0m     results \u001b[39m=\u001b[39m pd\u001b[39m.\u001b[39mDataFrame\u001b[39m.\u001b[39mfrom_records(data\u001b[39m=\u001b[39mcursor\u001b[39m.\u001b[39mfetchall(), columns\u001b[39m=\u001b[39mcols)\n",
      "\u001b[0;31mOperationalError\u001b[0m: no such table: issue"
     ]
    }
   ],
   "source": [
    "dataset_db = DatasetSqlite(os.path.join(data_dir,'dataset',f'{dataset}.sqlite3'))\n",
    "results = dataset_db.get_issues()\n",
    "issues = results.loc[(results.issue_type != 'default-value')]\n",
    "display(issues)"
   ]
  },
  {
   "cell_type": "markdown",
   "id": "0ba4ef1f-9456-4e1f-b654-cbb56d5e3cf2",
   "metadata": {},
   "source": [
    "#### Collection log summaries\n",
    "\n",
    "We need to establish if a resource was downloaded from the endpoint and whether there were any issues during the collection process. Examine the output of the below. There should be one log for the attempt made at downloading from the endpoint. If status code is 200 then the resource was downloaded successfully"
   ]
  },
  {
   "cell_type": "code",
   "execution_count": 34,
   "id": "ad17395f",
   "metadata": {
    "tags": []
   },
   "outputs": [
    {
     "data": {
      "text/plain": [
       "{}"
      ]
     },
     "execution_count": 34,
     "metadata": {},
     "output_type": "execute_result"
    }
   ],
   "source": [
    "collection = Collection(os.path.join(data_dir,'collection'))\n",
    "collection.load(directory=os.path.join(data_dir,'collection'))\n",
    "\n",
    "collection.resource.records"
   ]
  },
  {
   "cell_type": "code",
   "execution_count": 35,
   "id": "62286dd3",
   "metadata": {},
   "outputs": [
    {
     "data": {
      "text/html": [
       "<div>\n",
       "<style scoped>\n",
       "    .dataframe tbody tr th:only-of-type {\n",
       "        vertical-align: middle;\n",
       "    }\n",
       "\n",
       "    .dataframe tbody tr th {\n",
       "        vertical-align: top;\n",
       "    }\n",
       "\n",
       "    .dataframe thead th {\n",
       "        text-align: right;\n",
       "    }\n",
       "</style>\n",
       "<table border=\"1\" class=\"dataframe\">\n",
       "  <thead>\n",
       "    <tr style=\"text-align: right;\">\n",
       "      <th></th>\n",
       "      <th>bytes</th>\n",
       "      <th>content-type</th>\n",
       "      <th>elapsed</th>\n",
       "      <th>endpoint</th>\n",
       "      <th>resource</th>\n",
       "      <th>status</th>\n",
       "      <th>entry-date</th>\n",
       "      <th>start-date</th>\n",
       "      <th>end-date</th>\n",
       "      <th>exception</th>\n",
       "    </tr>\n",
       "  </thead>\n",
       "  <tbody>\n",
       "    <tr>\n",
       "      <th>0</th>\n",
       "      <td>0</td>\n",
       "      <td>text/plain; charset=utf-8</td>\n",
       "      <td>0.036</td>\n",
       "      <td>a3ca58f66b858db870967258a84d5dbc1e6649fcc73070...</td>\n",
       "      <td></td>\n",
       "      <td>200</td>\n",
       "      <td>2023-10-06T16:22:05.614399</td>\n",
       "      <td></td>\n",
       "      <td></td>\n",
       "      <td></td>\n",
       "    </tr>\n",
       "  </tbody>\n",
       "</table>\n",
       "</div>"
      ],
      "text/plain": [
       "  bytes               content-type elapsed  \\\n",
       "0     0  text/plain; charset=utf-8   0.036   \n",
       "\n",
       "                                            endpoint resource status  \\\n",
       "0  a3ca58f66b858db870967258a84d5dbc1e6649fcc73070...             200   \n",
       "\n",
       "                   entry-date start-date end-date exception  \n",
       "0  2023-10-06T16:22:05.614399                                "
      ]
     },
     "execution_count": 35,
     "metadata": {},
     "output_type": "execute_result"
    }
   ],
   "source": [
    "\n",
    "logs = collection.log.entries\n",
    "logs = pd.DataFrame.from_records(logs)\n",
    "logs"
   ]
  },
  {
   "cell_type": "markdown",
   "id": "4f842a08",
   "metadata": {},
   "source": [
    "### Check unnassigned entiities\n",
    "This process automatically aims to detect and assign entity numbers where entries are currently unnassigned. Examine the list below to see what (if any) entities have been assigned. if you were to include these in an actual pipeline you would need to update the configuration lookup.csv with these values. It's worth checking they are sensible before this happens "
   ]
  },
  {
   "cell_type": "code",
   "execution_count": 6,
   "id": "30b9a42d",
   "metadata": {},
   "outputs": [
    {
     "name": "stdout",
     "output_type": "stream",
     "text": [
      "                 organisation                   prefix reference\n",
      "0     local-authority-eng:CAM  listed-building-outline    LB1859\n",
      "1     local-authority-eng:CAM  listed-building-outline    LB1481\n",
      "2     local-authority-eng:CAM  listed-building-outline    LB1872\n",
      "3     local-authority-eng:CAM  listed-building-outline    LB1531\n",
      "4     local-authority-eng:CAM  listed-building-outline    LB1532\n",
      "...                       ...                      ...       ...\n",
      "1956  local-authority-eng:CAM  listed-building-outline     LB117\n",
      "1957  local-authority-eng:CAM  listed-building-outline    LB1648\n",
      "1958  local-authority-eng:CAM  listed-building-outline    LB1854\n",
      "1959  local-authority-eng:CAM  listed-building-outline    LB1724\n",
      "1960  local-authority-eng:CAM  listed-building-outline    LB1958\n",
      "\n",
      "[1961 rows x 3 columns]\n"
     ]
    }
   ],
   "source": [
    "unassigned_entries = pd.read_csv(os.path.join(data_dir,'var','cache','unassigned-entries.csv'))\n",
    "if len(unassigned_entries) == 0:\n",
    "    print('no additional entity numbers where required')\n",
    "else:\n",
    "    print(unassigned_entries)"
   ]
  },
  {
   "cell_type": "markdown",
   "id": "4313b0fa-151d-4c52-bb46-f6e733d2369e",
   "metadata": {},
   "source": [
    "#### Check logs collated from the pipeline process\n",
    "We need to read the logs and examine to see if the data points were all read in correctly. This uses the sqlite database to do so with some custom queries. You could directly examine the csvs if the pipeline fails.\n",
    "\n",
    "First, check the column mappings to see what columns the pipeline automatically mapped. Tf this is empty or missing values, then it's likely to be the reason data isn't appearing at the end."
   ]
  },
  {
   "cell_type": "code",
   "execution_count": 13,
   "id": "b9c01973",
   "metadata": {},
   "outputs": [
    {
     "data": {
      "text/html": [
       "<div>\n",
       "<style scoped>\n",
       "    .dataframe tbody tr th:only-of-type {\n",
       "        vertical-align: middle;\n",
       "    }\n",
       "\n",
       "    .dataframe tbody tr th {\n",
       "        vertical-align: top;\n",
       "    }\n",
       "\n",
       "    .dataframe thead th {\n",
       "        text-align: right;\n",
       "    }\n",
       "</style>\n",
       "<table border=\"1\" class=\"dataframe\">\n",
       "  <thead>\n",
       "    <tr style=\"text-align: right;\">\n",
       "      <th></th>\n",
       "      <th>end_date</th>\n",
       "      <th>entry_date</th>\n",
       "      <th>field</th>\n",
       "      <th>dataset</th>\n",
       "      <th>start_date</th>\n",
       "      <th>resource</th>\n",
       "      <th>column</th>\n",
       "    </tr>\n",
       "  </thead>\n",
       "  <tbody>\n",
       "    <tr>\n",
       "      <th>0</th>\n",
       "      <td></td>\n",
       "      <td>2023-10-06T15:57:55Z</td>\n",
       "      <td>end-date</td>\n",
       "      <td>listed-building-outline</td>\n",
       "      <td></td>\n",
       "      <td>222aa207c5ad94d02272ac94ac4d0ea93f37a733dd217a...</td>\n",
       "      <td>end-date</td>\n",
       "    </tr>\n",
       "    <tr>\n",
       "      <th>1</th>\n",
       "      <td></td>\n",
       "      <td>2023-10-06T15:57:55Z</td>\n",
       "      <td>entry-date</td>\n",
       "      <td>listed-building-outline</td>\n",
       "      <td></td>\n",
       "      <td>222aa207c5ad94d02272ac94ac4d0ea93f37a733dd217a...</td>\n",
       "      <td>entry-date</td>\n",
       "    </tr>\n",
       "    <tr>\n",
       "      <th>2</th>\n",
       "      <td></td>\n",
       "      <td>2023-10-06T15:57:55Z</td>\n",
       "      <td>geometry</td>\n",
       "      <td>listed-building-outline</td>\n",
       "      <td></td>\n",
       "      <td>222aa207c5ad94d02272ac94ac4d0ea93f37a733dd217a...</td>\n",
       "      <td>geometry</td>\n",
       "    </tr>\n",
       "    <tr>\n",
       "      <th>3</th>\n",
       "      <td></td>\n",
       "      <td>2023-10-06T15:57:55Z</td>\n",
       "      <td>listed-building</td>\n",
       "      <td>listed-building-outline</td>\n",
       "      <td></td>\n",
       "      <td>222aa207c5ad94d02272ac94ac4d0ea93f37a733dd217a...</td>\n",
       "      <td>listed-building</td>\n",
       "    </tr>\n",
       "    <tr>\n",
       "      <th>4</th>\n",
       "      <td></td>\n",
       "      <td>2023-10-06T15:57:55Z</td>\n",
       "      <td>listed-building-grade</td>\n",
       "      <td>listed-building-outline</td>\n",
       "      <td></td>\n",
       "      <td>222aa207c5ad94d02272ac94ac4d0ea93f37a733dd217a...</td>\n",
       "      <td>listed-building-grade</td>\n",
       "    </tr>\n",
       "    <tr>\n",
       "      <th>5</th>\n",
       "      <td></td>\n",
       "      <td>2023-10-06T15:57:55Z</td>\n",
       "      <td>name</td>\n",
       "      <td>listed-building-outline</td>\n",
       "      <td></td>\n",
       "      <td>222aa207c5ad94d02272ac94ac4d0ea93f37a733dd217a...</td>\n",
       "      <td>name</td>\n",
       "    </tr>\n",
       "    <tr>\n",
       "      <th>6</th>\n",
       "      <td></td>\n",
       "      <td>2023-10-06T15:57:55Z</td>\n",
       "      <td>notes</td>\n",
       "      <td>listed-building-outline</td>\n",
       "      <td></td>\n",
       "      <td>222aa207c5ad94d02272ac94ac4d0ea93f37a733dd217a...</td>\n",
       "      <td>notes</td>\n",
       "    </tr>\n",
       "    <tr>\n",
       "      <th>7</th>\n",
       "      <td></td>\n",
       "      <td>2023-10-06T15:57:55Z</td>\n",
       "      <td>reference</td>\n",
       "      <td>listed-building-outline</td>\n",
       "      <td></td>\n",
       "      <td>222aa207c5ad94d02272ac94ac4d0ea93f37a733dd217a...</td>\n",
       "      <td>reference</td>\n",
       "    </tr>\n",
       "    <tr>\n",
       "      <th>8</th>\n",
       "      <td></td>\n",
       "      <td>2023-10-06T15:57:55Z</td>\n",
       "      <td>start-date</td>\n",
       "      <td>listed-building-outline</td>\n",
       "      <td></td>\n",
       "      <td>222aa207c5ad94d02272ac94ac4d0ea93f37a733dd217a...</td>\n",
       "      <td>start-date</td>\n",
       "    </tr>\n",
       "  </tbody>\n",
       "</table>\n",
       "</div>"
      ],
      "text/plain": [
       "  end_date            entry_date                  field  \\\n",
       "0           2023-10-06T15:57:55Z               end-date   \n",
       "1           2023-10-06T15:57:55Z             entry-date   \n",
       "2           2023-10-06T15:57:55Z               geometry   \n",
       "3           2023-10-06T15:57:55Z        listed-building   \n",
       "4           2023-10-06T15:57:55Z  listed-building-grade   \n",
       "5           2023-10-06T15:57:55Z                   name   \n",
       "6           2023-10-06T15:57:55Z                  notes   \n",
       "7           2023-10-06T15:57:55Z              reference   \n",
       "8           2023-10-06T15:57:55Z             start-date   \n",
       "\n",
       "                   dataset start_date  \\\n",
       "0  listed-building-outline              \n",
       "1  listed-building-outline              \n",
       "2  listed-building-outline              \n",
       "3  listed-building-outline              \n",
       "4  listed-building-outline              \n",
       "5  listed-building-outline              \n",
       "6  listed-building-outline              \n",
       "7  listed-building-outline              \n",
       "8  listed-building-outline              \n",
       "\n",
       "                                            resource                 column  \n",
       "0  222aa207c5ad94d02272ac94ac4d0ea93f37a733dd217a...               end-date  \n",
       "1  222aa207c5ad94d02272ac94ac4d0ea93f37a733dd217a...             entry-date  \n",
       "2  222aa207c5ad94d02272ac94ac4d0ea93f37a733dd217a...               geometry  \n",
       "3  222aa207c5ad94d02272ac94ac4d0ea93f37a733dd217a...        listed-building  \n",
       "4  222aa207c5ad94d02272ac94ac4d0ea93f37a733dd217a...  listed-building-grade  \n",
       "5  222aa207c5ad94d02272ac94ac4d0ea93f37a733dd217a...                   name  \n",
       "6  222aa207c5ad94d02272ac94ac4d0ea93f37a733dd217a...                  notes  \n",
       "7  222aa207c5ad94d02272ac94ac4d0ea93f37a733dd217a...              reference  \n",
       "8  222aa207c5ad94d02272ac94ac4d0ea93f37a733dd217a...             start-date  "
      ]
     },
     "execution_count": 13,
     "metadata": {},
     "output_type": "execute_result"
    }
   ],
   "source": [
    "dataset_db = DatasetSqlite(os.path.join(data_dir,'dataset',f'{dataset}.sqlite3'))\n",
    "results = dataset_db.get_column_mappings()\n",
    "\n",
    "results"
   ]
  },
  {
   "cell_type": "markdown",
   "id": "0d3c9e67-e108-424e-a5cb-6aab2cbde912",
   "metadata": {},
   "source": [
    "examine the issues logs, we'll look at the types of errors being raised and list all of them. This could be improved in the future by examining the severity"
   ]
  },
  {
   "cell_type": "code",
   "execution_count": 14,
   "id": "4848627f",
   "metadata": {},
   "outputs": [
    {
     "data": {
      "text/html": [
       "<div>\n",
       "<style scoped>\n",
       "    .dataframe tbody tr th:only-of-type {\n",
       "        vertical-align: middle;\n",
       "    }\n",
       "\n",
       "    .dataframe tbody tr th {\n",
       "        vertical-align: top;\n",
       "    }\n",
       "\n",
       "    .dataframe thead th {\n",
       "        text-align: right;\n",
       "    }\n",
       "</style>\n",
       "<table border=\"1\" class=\"dataframe\">\n",
       "  <thead>\n",
       "    <tr style=\"text-align: right;\">\n",
       "      <th></th>\n",
       "      <th>issue_type</th>\n",
       "      <th>count</th>\n",
       "    </tr>\n",
       "  </thead>\n",
       "  <tbody>\n",
       "    <tr>\n",
       "      <th>0</th>\n",
       "      <td>default-value</td>\n",
       "      <td>3922</td>\n",
       "    </tr>\n",
       "    <tr>\n",
       "      <th>1</th>\n",
       "      <td>invalid geometry</td>\n",
       "      <td>6</td>\n",
       "    </tr>\n",
       "  </tbody>\n",
       "</table>\n",
       "</div>"
      ],
      "text/plain": [
       "         issue_type  count\n",
       "0     default-value   3922\n",
       "1  invalid geometry      6"
      ]
     },
     "execution_count": 14,
     "metadata": {},
     "output_type": "execute_result"
    }
   ],
   "source": [
    "\n",
    "results = dataset_db.get_issues_by_type()\n",
    "results"
   ]
  },
  {
   "cell_type": "code",
   "execution_count": 18,
   "id": "2555d950",
   "metadata": {},
   "outputs": [
    {
     "data": {
      "text/html": [
       "<div>\n",
       "<style scoped>\n",
       "    .dataframe tbody tr th:only-of-type {\n",
       "        vertical-align: middle;\n",
       "    }\n",
       "\n",
       "    .dataframe tbody tr th {\n",
       "        vertical-align: top;\n",
       "    }\n",
       "\n",
       "    .dataframe thead th {\n",
       "        text-align: right;\n",
       "    }\n",
       "</style>\n",
       "<table border=\"1\" class=\"dataframe\">\n",
       "  <thead>\n",
       "    <tr style=\"text-align: right;\">\n",
       "      <th></th>\n",
       "      <th>end_date</th>\n",
       "      <th>entry_date</th>\n",
       "      <th>entry_number</th>\n",
       "      <th>field</th>\n",
       "      <th>issue_type</th>\n",
       "      <th>line_number</th>\n",
       "      <th>dataset</th>\n",
       "      <th>resource</th>\n",
       "      <th>start_date</th>\n",
       "      <th>value</th>\n",
       "    </tr>\n",
       "  </thead>\n",
       "  <tbody>\n",
       "    <tr>\n",
       "      <th>136</th>\n",
       "      <td></td>\n",
       "      <td></td>\n",
       "      <td>69</td>\n",
       "      <td>geometry</td>\n",
       "      <td>invalid geometry</td>\n",
       "      <td>70</td>\n",
       "      <td>listed-building-outline</td>\n",
       "      <td>222aa207c5ad94d02272ac94ac4d0ea93f37a733dd217a...</td>\n",
       "      <td></td>\n",
       "      <td>Self-intersection[-0.107009972556572 51.518187...</td>\n",
       "    </tr>\n",
       "    <tr>\n",
       "      <th>427</th>\n",
       "      <td></td>\n",
       "      <td></td>\n",
       "      <td>214</td>\n",
       "      <td>geometry</td>\n",
       "      <td>invalid geometry</td>\n",
       "      <td>215</td>\n",
       "      <td>listed-building-outline</td>\n",
       "      <td>222aa207c5ad94d02272ac94ac4d0ea93f37a733dd217a...</td>\n",
       "      <td></td>\n",
       "      <td>Ring Self-intersection[-0.119518 51.525822]</td>\n",
       "    </tr>\n",
       "    <tr>\n",
       "      <th>896</th>\n",
       "      <td></td>\n",
       "      <td></td>\n",
       "      <td>448</td>\n",
       "      <td>geometry</td>\n",
       "      <td>invalid geometry</td>\n",
       "      <td>449</td>\n",
       "      <td>listed-building-outline</td>\n",
       "      <td>222aa207c5ad94d02272ac94ac4d0ea93f37a733dd217a...</td>\n",
       "      <td></td>\n",
       "      <td>Ring Self-intersection[-0.127893 51.518481]</td>\n",
       "    </tr>\n",
       "    <tr>\n",
       "      <th>1389</th>\n",
       "      <td></td>\n",
       "      <td></td>\n",
       "      <td>694</td>\n",
       "      <td>geometry</td>\n",
       "      <td>invalid geometry</td>\n",
       "      <td>695</td>\n",
       "      <td>listed-building-outline</td>\n",
       "      <td>222aa207c5ad94d02272ac94ac4d0ea93f37a733dd217a...</td>\n",
       "      <td></td>\n",
       "      <td>Too few points in geometry component[-0.183758...</td>\n",
       "    </tr>\n",
       "    <tr>\n",
       "      <th>2222</th>\n",
       "      <td></td>\n",
       "      <td></td>\n",
       "      <td>1110</td>\n",
       "      <td>geometry</td>\n",
       "      <td>invalid geometry</td>\n",
       "      <td>1111</td>\n",
       "      <td>listed-building-outline</td>\n",
       "      <td>222aa207c5ad94d02272ac94ac4d0ea93f37a733dd217a...</td>\n",
       "      <td></td>\n",
       "      <td>Ring Self-intersection[-0.128844 51.526229]</td>\n",
       "    </tr>\n",
       "    <tr>\n",
       "      <th>3201</th>\n",
       "      <td></td>\n",
       "      <td></td>\n",
       "      <td>1599</td>\n",
       "      <td>geometry</td>\n",
       "      <td>invalid geometry</td>\n",
       "      <td>1600</td>\n",
       "      <td>listed-building-outline</td>\n",
       "      <td>222aa207c5ad94d02272ac94ac4d0ea93f37a733dd217a...</td>\n",
       "      <td></td>\n",
       "      <td>Self-intersection[-0.145896 51.540893]</td>\n",
       "    </tr>\n",
       "  </tbody>\n",
       "</table>\n",
       "</div>"
      ],
      "text/plain": [
       "     end_date entry_date  entry_number     field        issue_type  \\\n",
       "136                                 69  geometry  invalid geometry   \n",
       "427                                214  geometry  invalid geometry   \n",
       "896                                448  geometry  invalid geometry   \n",
       "1389                               694  geometry  invalid geometry   \n",
       "2222                              1110  geometry  invalid geometry   \n",
       "3201                              1599  geometry  invalid geometry   \n",
       "\n",
       "      line_number                  dataset  \\\n",
       "136            70  listed-building-outline   \n",
       "427           215  listed-building-outline   \n",
       "896           449  listed-building-outline   \n",
       "1389          695  listed-building-outline   \n",
       "2222         1111  listed-building-outline   \n",
       "3201         1600  listed-building-outline   \n",
       "\n",
       "                                               resource start_date  \\\n",
       "136   222aa207c5ad94d02272ac94ac4d0ea93f37a733dd217a...              \n",
       "427   222aa207c5ad94d02272ac94ac4d0ea93f37a733dd217a...              \n",
       "896   222aa207c5ad94d02272ac94ac4d0ea93f37a733dd217a...              \n",
       "1389  222aa207c5ad94d02272ac94ac4d0ea93f37a733dd217a...              \n",
       "2222  222aa207c5ad94d02272ac94ac4d0ea93f37a733dd217a...              \n",
       "3201  222aa207c5ad94d02272ac94ac4d0ea93f37a733dd217a...              \n",
       "\n",
       "                                                  value  \n",
       "136   Self-intersection[-0.107009972556572 51.518187...  \n",
       "427         Ring Self-intersection[-0.119518 51.525822]  \n",
       "896         Ring Self-intersection[-0.127893 51.518481]  \n",
       "1389  Too few points in geometry component[-0.183758...  \n",
       "2222        Ring Self-intersection[-0.128844 51.526229]  \n",
       "3201             Self-intersection[-0.145896 51.540893]  "
      ]
     },
     "metadata": {},
     "output_type": "display_data"
    }
   ],
   "source": [
    "dataset_db = DatasetSqlite(os.path.join(data_dir,'dataset',f'{dataset}.sqlite3'))\n",
    "results = dataset_db.get_issues()\n",
    "results.loc[(results.issue_type != 'default-value') ]\n",
    "issues = results.loc[(results.issue_type != 'default-value')]\n",
    "display(issues)\n"
   ]
  },
  {
   "cell_type": "markdown",
   "id": "92f612d0-ca02-4080-b6f6-847f2b1ea22c",
   "metadata": {},
   "source": [
    "#### Final dataset comparison against the sqlite database\n",
    "\n",
    "Below are two tables which show the difference betwen what was provided to us and what is ucrrently in the entity table. It is important to bear in mind that we assign entities automaticallyis process, the table above shows what we have added."
   ]
  },
  {
   "cell_type": "code",
   "execution_count": null,
   "id": "16c7b0a5-3d38-4389-bf3c-413ecae98a15",
   "metadata": {},
   "outputs": [],
   "source": [
    "dataset_db = DatasetSqlite(os.path.join(data_dir,'dataset',f'{dataset}.sqlite3'))\n",
    "results = dataset_db.get_entities()\n",
    "results.head(26)"
   ]
  },
  {
   "cell_type": "code",
   "execution_count": null,
   "id": "85ac307e",
   "metadata": {},
   "outputs": [],
   "source": [
    "# load in raw resources\n",
    "collection = Collection(os.path.join(data_dir,'collection'))\n",
    "collection.load(directory=os.path.join(data_dir,'collection'))\n",
    "resources = collection.resource.entries\n",
    "resources"
   ]
  },
  {
   "cell_type": "code",
   "execution_count": null,
   "id": "09b20c34",
   "metadata": {},
   "outputs": [],
   "source": [
    "# currently this just reads in the raw resource but in  the future this should check for \n",
    "# converted resource first\n",
    "resource = resources[0]['resource']\n",
    "resource_path = os.path.join(data_dir,'collection','resource',resource)\n",
    "try:\n",
    "    raw_resource = pd.read_csv(resource_path)\n",
    "except (UnicodeDecodeError,TypeError,pd.errors.ParserError):\n",
    "    converted_resource_dir = os.path.join(data_dir,'var','converted_resources')\n",
    "    converted_resource_path = os.path.join(converted_resource_dir,f'{resource}.csv') \n",
    "    if not os.path.exists(converted_resource_path):\n",
    "        convert_resource(resource,resource_path,converted_resource_dir,dataset)\n",
    "    raw_resource = pd.read_csv(converted_resource_path)\n",
    "    "
   ]
  },
  {
   "cell_type": "code",
   "execution_count": null,
   "id": "a5da5690",
   "metadata": {},
   "outputs": [],
   "source": [
    "raw_resource"
   ]
  }
 ],
 "metadata": {
  "kernelspec": {
   "display_name": "Python 3 (ipykernel)",
   "language": "python",
   "name": "python3"
  },
  "language_info": {
   "codemirror_mode": {
    "name": "ipython",
    "version": 3
   },
   "file_extension": ".py",
   "mimetype": "text/x-python",
   "name": "python",
   "nbconvert_exporter": "python",
   "pygments_lexer": "ipython3",
   "version": "3.10.13"
  }
 },
 "nbformat": 4,
 "nbformat_minor": 5
}
