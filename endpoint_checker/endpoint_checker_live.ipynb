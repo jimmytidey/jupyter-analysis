{
 "cells": [
  {
   "cell_type": "code",
   "execution_count": 1,
   "metadata": {},
   "outputs": [
    {
     "name": "stderr",
     "output_type": "stream",
     "text": [
      "/Users/jimmytidey/Projects/jupyter-analysis/venv/lib/python3.10/site-packages/pyproj/transformer.py:207: UserWarning: Best transformation is not available due to missing Grid(short_name=uk_os_OSTN15_NTv2_OSGBtoETRS.tif, full_name=, package_name=, url=https://cdn.proj.org/uk_os_OSTN15_NTv2_OSGBtoETRS.tif, direct_download=True, open_license=True, available=False)\n",
      "  super().__init__(\n",
      "WARNING:root:not using the best available OSGB correction tables\n"
     ]
    }
   ],
   "source": [
    "import os, time, sys\n",
    "import pandas as pd\n",
    "from digital_land.collection import Collection\n",
    "\n",
    "from functions import run_endpoint_workflow\n",
    "from sqlite_query_functions import DatasetSqlite\n",
    "from convert_functions import convert_resource\n",
    "\n",
    "\n"
   ]
  },
  {
   "cell_type": "code",
   "execution_count": 3,
   "metadata": {},
   "outputs": [
    {
     "name": "stdout",
     "output_type": "stream",
     "text": [
      "HTTP Error 404: Not Found\n",
      "HTTP Error 404: Not Found\n",
      "data/endpoint_checker_16967120869144/collection\n",
      "[{'resource': '88719225f56c0e8f01f587dc85ebb65983c334442be2ddc9571cff60bfd5fda9', 'bytes': '42967', 'endpoints': 'a10b3732afc3a9ef86a263d6bed346529271f94589a4d84ecb656c055cb06560', 'organisations': 'local-authority-eng:CAM', 'datasets': 'listed-building-outline', 'start-date': '2023-10-07', 'end-date': ''}]\n"
     ]
    },
    {
     "name": "stderr",
     "output_type": "stream",
     "text": [
      "WARNING:root:entry-number: unexpected fieldname in lookups.csv\n",
      "ERROR:root:entity 42117820: missing reference\n"
     ]
    },
    {
     "name": "stdout",
     "output_type": "stream",
     "text": [
      "http status 200\n"
     ]
    },
    {
     "data": {
      "text/html": [
       "<div>\n",
       "<style scoped>\n",
       "    .dataframe tbody tr th:only-of-type {\n",
       "        vertical-align: middle;\n",
       "    }\n",
       "\n",
       "    .dataframe tbody tr th {\n",
       "        vertical-align: top;\n",
       "    }\n",
       "\n",
       "    .dataframe thead th {\n",
       "        text-align: right;\n",
       "    }\n",
       "</style>\n",
       "<table border=\"1\" class=\"dataframe\">\n",
       "  <thead>\n",
       "    <tr style=\"text-align: right;\">\n",
       "      <th></th>\n",
       "      <th>end_date</th>\n",
       "      <th>entry_date</th>\n",
       "      <th>entry_number</th>\n",
       "      <th>field</th>\n",
       "      <th>issue_type</th>\n",
       "      <th>line_number</th>\n",
       "      <th>dataset</th>\n",
       "      <th>resource</th>\n",
       "      <th>start_date</th>\n",
       "      <th>value</th>\n",
       "    </tr>\n",
       "  </thead>\n",
       "  <tbody>\n",
       "  </tbody>\n",
       "</table>\n",
       "</div>"
      ],
      "text/plain": [
       "Empty DataFrame\n",
       "Columns: [end_date, entry_date, entry_number, field, issue_type, line_number, dataset, resource, start_date, value]\n",
       "Index: []"
      ]
     },
     "metadata": {},
     "output_type": "display_data"
    }
   ],
   "source": [
    "collection_name = 'listed-building-collection'\n",
    "dataset = 'listed-building-outline'\n",
    "organisation = 'local-authority-eng:CAM'\n",
    "endpoint_url = 'https://raw.githubusercontent.com/jimmytidey/jupyter-analysis/feature-endpoint-checker-api/endpoint_checker/examples/conservation_area_bad_field_names.csv'\n",
    "plugin = None\n",
    "additional_column_mappings=None\n",
    "additional_concats=None\n",
    "data_dir = 'data/endpoint_checker_' + str(int(time.time()*10000)) \n",
    "\n",
    "\n",
    "run_endpoint_workflow(\n",
    "    collection_name,\n",
    "    dataset,\n",
    "    organisation,\n",
    "    endpoint_url,\n",
    "    plugin,\n",
    "    data_dir,\n",
    "    additional_col_mappings=additional_column_mappings,\n",
    "    additional_concats=additional_concats\n",
    ")\n",
    "\n",
    "collection = Collection(os.path.join(data_dir,'collection'))\n",
    "collection.load(directory=os.path.join(data_dir,'collection'))\n",
    "logs = collection.log.entries\n",
    "logs = pd.DataFrame.from_records(logs)\n",
    "http_status = logs['status'].values[0]\n",
    "print(f'http status {http_status}')\n",
    "\n",
    "dataset_db = DatasetSqlite(os.path.join(data_dir,'dataset',f'{dataset}.sqlite3'))\n",
    "results = dataset_db.get_issues()\n",
    "issues = results.loc[(results.issue_type != 'default-value')]\n",
    "display(issues)\n"
   ]
  }
 ],
 "metadata": {
  "kernelspec": {
   "display_name": "venv",
   "language": "python",
   "name": "python3"
  },
  "language_info": {
   "codemirror_mode": {
    "name": "ipython",
    "version": 3
   },
   "file_extension": ".py",
   "mimetype": "text/x-python",
   "name": "python",
   "nbconvert_exporter": "python",
   "pygments_lexer": "ipython3",
   "version": "3.10.13"
  }
 },
 "nbformat": 4,
 "nbformat_minor": 2
}
